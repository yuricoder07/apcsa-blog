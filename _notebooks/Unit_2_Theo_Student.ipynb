{
 "cells": [
  {
   "cell_type": "markdown",
   "metadata": {},
   "source": [
    "# Java FRQ notes\n",
    "- toc: true\n",
    "- comments: false\n",
    "- layout: post\n",
    "- title: Unit 2.3-2.5\n",
    "- description: **\n",
    "- type: hacks\n",
    "- courses: { csa: {week: 7} }"
   ]
  },
  {
   "cell_type": "markdown",
   "metadata": {},
   "source": [
    "### Unit 2.4- Calling a Void Method With Parameters"
   ]
  },
  {
   "cell_type": "markdown",
   "metadata": {},
   "source": [
    "The method signature for writing void method with parameters is the same as a constructor, with the name of the method followed by the parameters and their types in parentheses. For example, here is a method that prints the perimeter of a rectangle..."
   ]
  },
  {
   "cell_type": "code",
   "execution_count": 2,
   "metadata": {
    "vscode": {
     "languageId": "java"
    }
   },
   "outputs": [],
   "source": [
    "public static void printRectanglePerimeter(double length, double width) {\n",
    "    System.out.println(2 * (length + width));\n",
    "  }   "
   ]
  },
  {
   "cell_type": "code",
   "execution_count": 3,
   "metadata": {
    "vscode": {
     "languageId": "java"
    }
   },
   "outputs": [
    {
     "name": "stdout",
     "output_type": "stream",
     "text": [
      "8.0\n"
     ]
    }
   ],
   "source": [
    "printRectanglePerimeter(1.5, 2.5);"
   ]
  },
  {
   "cell_type": "markdown",
   "metadata": {},
   "source": [
    "We can also overload methods as well. This overloading of the method is acceptable because there are different numbers of parameters. "
   ]
  },
  {
   "cell_type": "code",
   "execution_count": null,
   "metadata": {
    "vscode": {
     "languageId": "java"
    }
   },
   "outputs": [],
   "source": [
    "// If 2 parameters are given, we will calculate the perimeter by adding the length and width and doubling it\n",
    "public static void printRectanglePerimeter(double length, double width) {\n",
    "    System.out.println(2 * (length + width));\n",
    "}\n",
    "\n",
    "// If 1 parameter is given, we assume the shape is a square\n",
    "public static void printRectanglePerimeter(double side) {\n",
    "    System.out.println(4 * side);\n",
    "}\n",
    "\n",
    "// No shape exists, no perimeter is calculated\n",
    "public static void printRectanglePerimeter() {\n",
    "    System.out.println(0);\n",
    "}"
   ]
  },
  {
   "cell_type": "markdown",
   "metadata": {},
   "source": [
    "### Unit 2.5- Calling a Non-Void Method\n",
    "\n",
    "**Void methods**: complete actions and represent tasks. They are used when you want a method to perform a task or operation without producing a result that needs to be used elsewhere in your program. Void methods are typically used for actions like printing a message, updating a data structure, or modifying the state of an object.\n",
    "\n",
    "Format for a non-void method:\n",
    "```\n",
    "public (static) dataType methodName(parameterListOptional)\n",
    "```"
   ]
  },
  {
   "cell_type": "markdown",
   "metadata": {},
   "source": [
    "Which method in this class is a non-void method? Edit the cell below to call the Calculator method."
   ]
  },
  {
   "cell_type": "code",
   "execution_count": null,
   "metadata": {
    "vscode": {
     "languageId": "java"
    }
   },
   "outputs": [],
   "source": [
    "public class Calculator {\n",
    "    // A method that adds two numbers and returns the result\n",
    "    public int add(int a, int b) {\n",
    "        return a + b;\n",
    "    }\n",
    "\n",
    "    // THe main method\n",
    "    public static void main(String[] args) {\n",
    "        Calculator calculator = new Calculator();\n",
    "\n",
    "        // Calling the  method and capturing the result\n",
    "        int sum = calculator.add(5, 3);\n",
    "\n",
    "        // Printing the result\n",
    "        System.out.println(\"Sum: \" + sum); // Output: Sum: 8\n",
    "    }\n",
    "}\n"
   ]
  }
 ],
 "metadata": {
  "kernelspec": {
   "display_name": "Java",
   "language": "java",
   "name": "java"
  },
  "language_info": {
   "codemirror_mode": "java",
   "file_extension": ".jshell",
   "mimetype": "text/x-java-source",
   "name": "Java",
   "pygments_lexer": "java",
   "version": "20.0.2+9-78"
  },
  "orig_nbformat": 4
 },
 "nbformat": 4,
 "nbformat_minor": 2
}
