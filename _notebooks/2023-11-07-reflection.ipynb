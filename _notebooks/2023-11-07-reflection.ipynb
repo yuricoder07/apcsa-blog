{
 "cells": [
  {
   "cell_type": "markdown",
   "metadata": {},
   "source": [
    "# Reflection post\n",
    "> Reflection post with grades + proof of work\n",
    "\n",
    "- toc: true\n",
    "- comments: false\n",
    "- layout: post\n",
    "- title: Reflection Post\n",
    "- description: Reflection post with grades + proof of work\n",
    "- type: hacks\n",
    "- courses: { csa: {week: 12} }\n",
    "- permalink: /reflection"
   ]
  },
  {
   "cell_type": "markdown",
   "metadata": {},
   "source": []
  }
 ],
 "metadata": {
  "language_info": {
   "name": "python"
  },
  "orig_nbformat": 4
 },
 "nbformat": 4,
 "nbformat_minor": 2
}
