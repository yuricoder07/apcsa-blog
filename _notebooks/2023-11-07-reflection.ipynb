{
 "cells": [
  {
   "cell_type": "markdown",
   "metadata": {},
   "source": [
    "# Reflection post\n",
    "> Reflection post with grades + proof of work\n",
    "\n",
    "- toc: true\n",
    "- comments: false\n",
    "- layout: post\n",
    "- title: Reflection Post\n",
    "- description: Reflection post with grades + proof of work\n",
    "- type: hacks\n",
    "- courses: { csa: {week: 12} }\n",
    "- permalink: /reflection"
   ]
  },
  {
   "cell_type": "markdown",
   "metadata": {},
   "source": [
    "# Proof Of Work (Frontend and Backend)\n",
    "\n",
    "![](\"https://media.discordapp.net/attachments/1156623830631059597/1171550191686516847/Screenshot_2023-11-07_at_12.33.23_PM.png?ex=655d1624&is=654aa124&hm=557720ba1289abfa31c2c7b6f192383990bfe91c831529a332f30b4804568812&=&width=833&height=649\")"
   ]
  }
 ],
 "metadata": {
  "language_info": {
   "name": "python"
  },
  "orig_nbformat": 4
 },
 "nbformat": 4,
 "nbformat_minor": 2
}
