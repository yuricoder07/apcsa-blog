{
 "cells": [
  {
   "cell_type": "markdown",
   "metadata": {},
   "source": [
    "# Reflection post\n",
    "> Reflection post with grades + proof of work\n",
    "\n",
    "- toc: true\n",
    "- comments: false\n",
    "- layout: post\n",
    "- title: Reflection Post\n",
    "- description: Reflection post with grades + proof of work\n",
    "- type: hacks\n",
    "- courses: { csa: {week: 12} }\n",
    "- permalink: /reflection"
   ]
  },
  {
   "cell_type": "markdown",
   "metadata": {},
   "source": [
    "# Commits to Frontend and Backend\n",
    "\n",
    "## Backend\n",
    "![](https://media.discordapp.net/attachments/1156623830631059597/1171550191686516847/Screenshot_2023-11-07_at_12.33.23_PM.png?ex=655d1624&is=654aa124&hm=557720ba1289abfa31c2c7b6f192383990bfe91c831529a332f30b4804568812&=&width=833&height=649)\n",
    "\n",
    "## Frontend\n",
    "![](https://media.discordapp.net/attachments/1156623830631059597/1171550192298901625/Screenshot_2023-11-07_at_12.33.45_PM.png?ex=655d1624&is=654aa124&hm=20db433c9bfe6935fe66503e663d8fc823dfc2466ba5fca0d8a4d5a402a12cab&=&width=682&height=649)\n"
   ]
  },
  {
   "cell_type": "markdown",
   "metadata": {},
   "source": [
    "# Code Contribution\n",
    "\n",
    "## Backend API contoller\n",
    "![](https://media.discordapp.net/attachments/1156623830631059597/1171552081128210482/Screenshot_2023-11-07_at_12.49.23_PM.png?ex=655d17e6&is=654aa2e6&hm=0964fa647862d795f3fad7ef9191180c1ff6bcee51c128c1c5c5b9ef74736701&=&width=719&height=649)\n",
    "![](https://media.discordapp.net/attachments/1156623830631059597/1171552081660878959/Screenshot_2023-11-07_at_12.49.33_PM.png?ex=655d17e6&is=654aa2e6&hm=577fd6b3ce2beb857ffb479322a5a7c06e2f52e165d4f6befeb2eae97968c931&=&width=690&height=649)\n",
    "\n",
    "## Backend ChatInput class template (OOP)\n",
    "![](https://media.discordapp.net/attachments/1156623830631059597/1171552338788483082/Screenshot_2023-11-07_at_12.50.39_PM.png?ex=655d1823&is=654aa323&hm=1be7ecf1b2547fe3d29aa57d7fa8172532d85cefba22691c6592bca427f7b201&=&width=851&height=649)\n",
    "\n",
    "\n",
    "# Frontend fetch and display\n",
    "![](https://media.discordapp.net/attachments/1156623830631059597/1171552593588256818/Screenshot_2023-11-07_at_12.51.37_PM.png?ex=655d1860&is=654aa360&hm=6ac58aa8b61dda9f3edd7062b1c704961b647b4d10adffb11c8011c99e4466ea&=&width=750&height=649)"
   ]
  },
  {
   "cell_type": "markdown",
   "metadata": {},
   "source": [
    "# Collegeboard Corrections\n",
    "\n",
    "### Score ``34/40``\n",
    "![](https://media.discordapp.net/attachments/1156623830631059597/1171550192630243358/Screenshot_2023-11-07_at_12.33.59_PM.png?ex=655d1624&is=654aa124&hm=4094bc30dd31756dcf07d05d17474b4f3dd3a67f65b6c28818f0c6d7ac05eb40&=&width=1410&height=154)\n",
    "\n",
    "### Corrections:\n",
    "``Question 2`` Answerd : C | Correct Answer : A | Explanation : Correct. The getA method is a method in SomeClass that has a return type of int and does not take any parameters. The dot operator is used along with the object name to call non-static methods. The correct way to call getA using the object obj is obj.getA(); and since this method is returning an int, int x can be assigned this value.\n",
    "\n",
    "``Question 10`` Answerd : C | Correct Answer : B | Explanation : Correct. Choice I will return the correct value if the element in the array with one element was target. In this case, with the first call to seqSearchRecHelper the value of data[0] would be target and 0 would be returned. Choice II will eventually cause an ArrayIndexOutOfBoundsException to be thrown when the recursive call is made with target and -1. This will happen after every valid index in data has been examined. During this call, data[-1] is out of bounds. Choice III will correctly return the index of the element closest to the end of the array with the value target, since data[last] == target will be true at some valid index value of last.\n",
    "\n",
    "``Question 18`` Answerd : C | Correct Answer : B | Explanation : Correct. The indices for myList are 0 through myList.size() – 1, for a total of myList.size() elements. Using Math.random()generates a random floating point number between 0 and 1, not including 1. When this value is multiplied by the number of elements we want in our range, myList.size(), a random floating point number between 0 and myList.size(), not including myList.size(), is generated. When this value is typecast as an int, the result is an integer value between 0 and myList.size() – 1 inclusive.\n",
    "\n",
    "``Question 22`` Answerd : D | Correct Answer : B | Explanation : Correct. Since the books array has been declared of type Book, at compile time all objects stored in books are considered Book object regardless of their actual type. Therefore, any methods that are called on elements of books must be declared in Book. In order to call the pagesPerMinute() method on Book[0], we would need to use typecasting to let the compiler know that the object stored in the books array at this index is actually an AudioBook object.\n",
    "\n",
    "``Question 23`` Answerd : E | Correct Answer : B | Explanation : Incorrect. List is an interface, which an ArrayList implements. Please note that List is no longer tested as part of the AP CSA exam and ArrayList will be used instead. This would be the result if when words that started with “b” were found, they were added to the end instead of inserted at index animals.size() – k such as if the statement in the for loop was animals.add(animals.remove(k));.\n",
    "\n",
    "``Question 25`` Answerd : B | Correct Answer : D | Explanation : Correct. Please note that interface is no longer a part of the AP CSA exam. A rectangular box fits inside another rectangular box if and only if the height, width, and depth of the smaller box are each less than the corresponding values of the larger box. Choice I provides the user access to the height, width, and depth of a box through the accessor methods getHeight, getWidth, and getDepth. This allows comparisons to be made in each of the three dimensions to determine if one box can fit inside another box. Choice II provides the user with methods smallerHeight, smallerWidth, and smallerDepth that let the user know if one box is smaller than the other in each of the three dimensions. Choice III provides the user with the getSurfaceArea and getVolume methods which provide the surface area and volume of a box. Unfortunately, a box with a smaller surface area or volume is not necessarily small enough to fit inside another box with a larger surface area or volume. For example, if box 1 has dimensions 1, 2, 5 and box 2 has dimensions 2, 3, 4. Box 1 has a surface area of 34 units squared and a volume of 10 units cubed.  Box 2 has a larger surface area of 52 units squared and a larger volume of 24 units cubed. However, box 1 cannot fit inside box 2 because it has a height of 5 which is greater than any of the dimensions of box 2."
   ]
  },
  {
   "cell_type": "markdown",
   "metadata": {},
   "source": [
    "## Key Commit\n",
    "![](https://media.discordapp.net/attachments/1156623830631059597/1171555554565562368/Screenshot_2023-11-07_at_1.03.21_PM.png?ex=655d1b22&is=654aa622&hm=2247ce03ff40c53891fe739e0ea30ee384ad85efb6827252c697c6f1270996ca&=&width=1410&height=316)"
   ]
  },
  {
   "cell_type": "markdown",
   "metadata": {},
   "source": [
    "# Student Hacks + Grading\n",
    "|Unit| Grade|\n",
    "|----|-------|\n",
    "|1 | 0.55/1|\n",
    "| 2|0.55/1|\n",
    "| 3| 0.55/1|\n",
    "| 4| 0.55/1|\n",
    "| 5| 0.95/1 |\n",
    "| 6| 0.55/1 |\n",
    "| 7| 0.55/1 |\n",
    "\n",
    "``4.25/7 (~0.607/1) ``"
   ]
  },
  {
   "cell_type": "markdown",
   "metadata": {},
   "source": [
    "# Final Reflection\n",
    "This trimester was very tough due to me being very busy however I feel like I progressed towards the end. I succesfully finished my java backend, and frontend work. However I did exeperience issues with CORS (Security measure to prevent malicious code) so the frontend requests weren't really working. Despite all of this my java backend still works functionally, and I learned a lot about the structuring in java.\n"
   ]
  }
 ],
 "metadata": {
  "language_info": {
   "name": "python"
  },
  "orig_nbformat": 4
 },
 "nbformat": 4,
 "nbformat_minor": 2
}
