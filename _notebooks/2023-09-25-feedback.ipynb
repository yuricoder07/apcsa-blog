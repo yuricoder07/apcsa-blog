{
 "cells": [
  {
   "cell_type": "markdown",
   "metadata": {},
   "source": [
    "# Java Mini FRQ Lab\n",
    "> Teaching people about classes in java using a FRQ example\n",
    "- toc: true\n",
    "- comments: false\n",
    "- layout: post\n",
    "- title: Java FRQ Mini-lab\n",
    "- description: Teaching people about classes in java using a FRQ example\n",
    "- type: hacks\n",
    "- courses: { csa: {week: 4} }\n",
    "- permalink: /java-feedback"
   ]
  },
  {
   "cell_type": "markdown",
   "metadata": {},
   "source": [
    "# Akshat Feedback Score: .95/1\n",
    "\n",
    "\n",
    "### Notes\n",
    "Akshat\n",
    "\n",
    "Topic: Writing Classes:\n",
    "\n",
    "Common Questions:\n",
    "\n",
    "Defining a Class\n",
    "Encapsulation\n",
    "Super-classes\n",
    "Constructor methods\n",
    "Question Answered: AP Exam 2022 #2\n",
    "\n",
    "Objective: Write the getEdition() and getTitle() and canSubstituteFor() method.\n",
    "\n",
    "1/3 point for collaboration evidence with crossover team\n",
    "1/3 point for individual/team FRQ technical work; code quality and code runtime.\n",
    "1/3 point for final review ticket with video summary\n",
    "Total Points: 0.95/1.\n",
    "\n",
    "### Feedback\n",
    "- Your code was good, and your process to improve was even better. The only piece of feedback I have for Akshat is to practice being time-efficient. During the AP Exam, it'll be important to write code to the problems fast and correct. This comes with understanding the core concepts through additional practice. Other than that, great job."
   ]
  },
  {
   "cell_type": "markdown",
   "metadata": {},
   "source": []
  },
  {
   "cell_type": "markdown",
   "metadata": {},
   "source": []
  }
 ],
 "metadata": {
  "language_info": {
   "name": "python"
  },
  "orig_nbformat": 4
 },
 "nbformat": 4,
 "nbformat_minor": 2
}
