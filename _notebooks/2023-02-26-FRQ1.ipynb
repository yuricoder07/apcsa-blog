{
 "cells": [
  {
   "cell_type": "markdown",
   "metadata": {},
   "source": [
    "---\n",
    "toc: true\n",
    "comments: true\n",
    "layout: post\n",
    "title: College Board FRQ Final \n",
    "description: Final FRQ\n",
    "courses: { lab: {week: 0} }\n",
    "type: hacks\n",
    "---"
   ]
  },
  {
   "cell_type": "markdown",
   "metadata": {},
   "source": [
    "# FRQ 1\n",
    "\n",
    "(a) Write a static method arraySum that calculates and returns the sum of the entries in a specified one-dimensional array. The following example shows an array arr1 and the value returned by a call to arraySum.\n",
    "\n",
    "![](https://media.discordapp.net/attachments/1170817707357249657/1212652667273224213/Screenshot_2024-02-28_at_10.48.42_PM.png?ex=65f29dcd&is=65e028cd&hm=5513056d2bb499b74dc981f820fb6a407fc80ddcf9a75871d61ec3da24c52958&=&format=webp&quality=lossless&width=1840&height=508)\n",
    "\n"
   ]
  },
  {
   "cell_type": "code",
   "execution_count": 1,
   "metadata": {
    "vscode": {
     "languageId": "java"
    }
   },
   "outputs": [
    {
     "name": "stdout",
     "output_type": "stream",
     "text": [
      "16\n"
     ]
    }
   ],
   "source": [
    "public static int arraySum (int [ ] arr){\n",
    "    int sum = 0;\n",
    "    for (int i = 0; i<arr.length; i++){\n",
    "        sum+= arr[i];\n",
    "    }\n",
    "    return sum;\n",
    "}\n",
    "\n",
    "public class TestA {\n",
    "    public static void main(String[] args) {\n",
    "        int[] arr = {1,3,2,7,3};\n",
    "        int sum = arraySum(arr);\n",
    "        System.out.println(sum);\n",
    "    }\n",
    "}\n",
    "TestA.main(null);"
   ]
  },
  {
   "cell_type": "markdown",
   "metadata": {},
   "source": [
    "(b) Write a static method rowSums that calculates the sums of each of the rows in a given two-dimensional array and returns these sums in a one-dimensional array. The method has one parameter, a two-dimensional array arr2D of int values. The array is in row-major order: arr2D [ r ] [ c ] is the entry at row r and column c. The method returns a one-dimensional array with one entry for each row of arr2D such that each entry is the sum of the corresponding row in arr2D. As a reminder, each row of a two-dimensional array is a one-dimensional array.\n"
   ]
  },
  {
   "cell_type": "markdown",
   "metadata": {},
   "source": [
    "![](https://media.discordapp.net/attachments/1170817707357249657/1212653168270381086/Screenshot_2024-02-28_at_10.50.40_PM.png?ex=65f29e45&is=65e02945&hm=682c607a47ac173e05130b4915c98b4317843cf29d70817af80aeab02b3fcefe&=&format=webp&quality=lossless&width=1100&height=544)"
   ]
  },
  {
   "cell_type": "code",
   "execution_count": 2,
   "metadata": {
    "vscode": {
     "languageId": "java"
    }
   },
   "outputs": [
    {
     "name": "stdout",
     "output_type": "stream",
     "text": [
      "Row 0 Sum: 16\n",
      "Row 1 Sum: 32\n",
      "Row 2 Sum: 28\n",
      "Row 3 Sum: 20\n"
     ]
    }
   ],
   "source": [
    "public static int [ ] rowSums(int [ ] [ ] arr2D){\n",
    "    int rowsAmount = arr2D.length;\n",
    "    int[] sums = new int[rowsAmount];\n",
    "    for (int i = 0; i<arr2D.length; i++){\n",
    "        sums[i]= arraySum(arr2D[i]);\n",
    "    }\n",
    "    return sums;\n",
    "}\n",
    "public class TestB {\n",
    "    public static void main(String[] args) {\n",
    "        int[][] arr2D = {\n",
    "        {1,3,2,7,3},\n",
    "        {10,10,4,6,2},\n",
    "        {5,3,5,9,6},\n",
    "        {7,6,4,2,1}};\n",
    "        int[] sums = rowSums(arr2D);\n",
    "        for (int i = 0; i<sums.length; i++){\n",
    "            System.out.println(\"Row \"+i+\" Sum: \"+sums[i]);\n",
    "        }\n",
    "    }\n",
    "}\n",
    "TestB.main(null);"
   ]
  },
  {
   "cell_type": "markdown",
   "metadata": {},
   "source": [
    "(c) A two-dimensional array is diverse if no two of its rows have entries that sum to the same value. In the following examples, the array mat1 is diverse because each row sum is different, but the array mat2 is not diverse because the first and last rows have the same sum.\n",
    "![](https://media.discordapp.net/attachments/1170817707357249657/1212653365838749756/Screenshot_2024-02-28_at_10.51.27_PM.png?ex=65f29e74&is=65e02974&hm=3847d439e3795001b700c19615d5c93acfe7dc3ca69fa2133e5a7e9b780796c1&=&format=webp&quality=lossless&width=872&height=700)\n",
    "\n"
   ]
  },
  {
   "cell_type": "code",
   "execution_count": 3,
   "metadata": {
    "vscode": {
     "languageId": "java"
    }
   },
   "outputs": [
    {
     "name": "stdout",
     "output_type": "stream",
     "text": [
      "true: mat1 is diverse\n",
      "false: mat2 is diverse\n"
     ]
    }
   ],
   "source": [
    "public static boolean isDiverse(int [ ] [ ] arr2D){\n",
    "    int[] sums = rowSums(arr2D);\n",
    "    for (int i = 0; i<sums.length-1; i++){\n",
    "        for (int j = i+1; j<sums.length; j++){\n",
    "            if(sums[i]==sums[j]){\n",
    "                return false;\n",
    "            }\n",
    "        }\n",
    "    }\n",
    "    return true;\n",
    "}\n",
    "public class TestC {\n",
    "    public static void main(String[] args) {\n",
    "        int[][] mat1 = {\n",
    "            {1,3,2,7,3},\n",
    "            {10,10,4,6,2},\n",
    "            {5,3,5,9,6},\n",
    "            {7,6,4,2,1}};\n",
    "        int[][] mat2 = {\n",
    "            {1,1,5,3,4},\n",
    "            {12,7,6,1,9},\n",
    "            {8,11,10,2,5},\n",
    "            {3,2,3,0,6}};\n",
    "        System.out.println(isDiverse(mat1)+\": mat1 is diverse\");\n",
    "        System.out.println(isDiverse(mat2)+\": mat2 is diverse\");\n",
    "    }\n",
    "}\n",
    "TestC.main(null);"
   ]
  },
  {
   "cell_type": "markdown",
   "metadata": {},
   "source": [
    "This FRQ question regards the topic of Array/ArrayList and 2D Array. In part a, this question tested our knowledge on arrays because it requires the sum of all elements in the array. In part b, this question was about both arrays and 2D arrays because we had to navigate through a 2D array using iterative loops to then find the sums of each 1D array within the 2D array. Lastly, part c tests our ability on 2D arrays and 1D arrays as well but it was mostly 1D arrays because we need to compare the elements in the array to see if there we duplicates.\n",
    "\n"
   ]
  }
 ],
 "metadata": {
  "kernelspec": {
   "display_name": "Java",
   "language": "java",
   "name": "java"
  },
  "language_info": {
   "codemirror_mode": "java",
   "file_extension": ".jshell",
   "mimetype": "text/x-java-source",
   "name": "Java",
   "pygments_lexer": "java",
   "version": "20.0.2+9-78"
  },
  "orig_nbformat": 4
 },
 "nbformat": 4,
 "nbformat_minor": 2
}
