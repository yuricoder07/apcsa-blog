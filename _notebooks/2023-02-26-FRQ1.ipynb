{
 "cells": [
  {
   "cell_type": "markdown",
   "metadata": {},
   "source": [
    "---\n",
    "toc: true\n",
    "comments: true\n",
    "layout: post\n",
    "title: College Board FRQ1 Final \n",
    "description: Final FRQ\n",
    "courses: { lab: {week: 0} }\n",
    "type: hacks\n",
    "---"
   ]
  },
  {
   "cell_type": "markdown",
   "metadata": {},
   "source": [
    "# FRQ 1\n",
    "\n",
    "(a) Write a static method arraySum that calculates and returns the sum of the entries in a specified one-dimensional array. The following example shows an array arr1 and the value returned by a call to arraySum.\n",
    "\n",
    "![](https://media.discordapp.net/attachments/1170817707357249657/1212652667273224213/Screenshot_2024-02-28_at_10.48.42_PM.png?ex=65f29dcd&is=65e028cd&hm=5513056d2bb499b74dc981f820fb6a407fc80ddcf9a75871d61ec3da24c52958&=&format=webp&quality=lossless&width=1840&height=508)\n",
    "\n"
   ]
  },
  {
   "cell_type": "code",
   "execution_count": 6,
   "metadata": {
    "vscode": {
     "languageId": "java"
    }
   },
   "outputs": [
    {
     "name": "stdout",
     "output_type": "stream",
     "text": [
      "16\n"
     ]
    }
   ],
   "source": [
    "// Defines a method to calculate the sum of elements in an array.\n",
    "public static int arraySum(int[] arr) {\n",
    "    int sum = 0; // Initializes the sum variable to store the cumulative total.\n",
    "    \n",
    "    // Loops through each element in the array.\n",
    "    for (int i = 0; i < arr.length; i++) {\n",
    "        sum += arr[i]; // Adds the current element to the sum.\n",
    "    }\n",
    "    \n",
    "    return sum; // Returns the total sum of the array elements.\n",
    "}\n",
    "\n",
    "// Defines a class named TestA to test the arraySum method.\n",
    "public class TestA {\n",
    "    \n",
    "    // The main method, serving as the entry point of the program.\n",
    "    public static void main(String[] args) {\n",
    "        int[] arr = {1, 3, 2, 7, 3}; // Initializes an array with some integers.\n",
    "        int sum = arraySum(arr); // Calls the arraySum method with the array and stores the result in sum.\n",
    "        \n",
    "        System.out.println(sum); // Prints the sum of the array elements to the console.\n",
    "    }\n",
    "}\n",
    "\n",
    "// This line simulates calling the main method of the TestA class, typically used for testing or demonstration.\n",
    "TestA.main(null);\n"
   ]
  },
  {
   "cell_type": "markdown",
   "metadata": {},
   "source": [
    "(b) Write a static method rowSums that calculates the sums of each of the rows in a given two-dimensional array and returns these sums in a one-dimensional array. The method has one parameter, a two-dimensional array arr2D of int values. The array is in row-major order: arr2D [ r ] [ c ] is the entry at row r and column c. The method returns a one-dimensional array with one entry for each row of arr2D such that each entry is the sum of the corresponding row in arr2D. As a reminder, each row of a two-dimensional array is a one-dimensional array.\n"
   ]
  },
  {
   "cell_type": "markdown",
   "metadata": {},
   "source": [
    "![](https://media.discordapp.net/attachments/1170817707357249657/1212653168270381086/Screenshot_2024-02-28_at_10.50.40_PM.png?ex=65f29e45&is=65e02945&hm=682c607a47ac173e05130b4915c98b4317843cf29d70817af80aeab02b3fcefe&=&format=webp&quality=lossless&width=1100&height=544)"
   ]
  },
  {
   "cell_type": "code",
   "execution_count": 10,
   "metadata": {
    "vscode": {
     "languageId": "java"
    }
   },
   "outputs": [
    {
     "name": "stdout",
     "output_type": "stream",
     "text": [
      "Row 0 Sum: 16\n",
      "Row 1 Sum: 32\n",
      "Row 2 Sum: 28\n",
      "Row 3 Sum: 20\n"
     ]
    }
   ],
   "source": [
    "// Method to calculate the sum of elements in each row of a 2D array.\n",
    "public static int[] rowSums(int[][] arr2D) {\n",
    "    int rowsAmount = arr2D.length; // Determine the number of rows in the 2D array.\n",
    "    int[] sums = new int[rowsAmount]; // Initialize an array to store the sum of each row.\n",
    "\n",
    "    // Loop through each row of the 2D array.\n",
    "    for (int i = 0; i < arr2D.length; i++) {\n",
    "        // Call arraySum method on the current row and store the result in the sums array.\n",
    "        sums[i] = arraySum(arr2D[i]);\n",
    "    }\n",
    "    return sums; // Return the array containing sums of each row.\n",
    "}\n",
    "\n",
    "// Test class containing a main method to demonstrate the functionality of rowSums method.\n",
    "public class TestB {\n",
    "    public static void main(String[] args) {\n",
    "        // Initialize a 2D array with predefined values.\n",
    "        int[][] arr2D = {\n",
    "            {1, 3, 2, 7, 3},\n",
    "            {10, 10, 4, 6, 2},\n",
    "            {5, 3, 5, 9, 6},\n",
    "            {7, 6, 4, 2, 1}\n",
    "        };\n",
    "\n",
    "        // Call rowSums method with the 2D array and store the returned sums in an array.\n",
    "        int[] sums = rowSums(arr2D);\n",
    "\n",
    "        // Loop through the sums array to print the sum of each row.\n",
    "        for (int i = 0; i < sums.length; i++) {\n",
    "            System.out.println(\"Row \" + i + \" Sum: \" + sums[i]);\n",
    "        }\n",
    "    }\n",
    "}\n",
    "\n",
    "// Simulate calling the main method of TestB class, typically for testing or demonstration purposes.\n",
    "TestB.main(null);\n"
   ]
  },
  {
   "cell_type": "markdown",
   "metadata": {},
   "source": [
    "(c) A two-dimensional array is diverse if no two of its rows have entries that sum to the same value. In the following examples, the array mat1 is diverse because each row sum is different, but the array mat2 is not diverse because the first and last rows have the same sum.\n",
    "![](https://media.discordapp.net/attachments/1170817707357249657/1212653365838749756/Screenshot_2024-02-28_at_10.51.27_PM.png?ex=65f29e74&is=65e02974&hm=3847d439e3795001b700c19615d5c93acfe7dc3ca69fa2133e5a7e9b780796c1&=&format=webp&quality=lossless&width=872&height=700)\n",
    "\n"
   ]
  },
  {
   "cell_type": "code",
   "execution_count": 11,
   "metadata": {
    "vscode": {
     "languageId": "java"
    }
   },
   "outputs": [
    {
     "name": "stdout",
     "output_type": "stream",
     "text": [
      "true: mat1 is diverse\n",
      "false: mat2 is diverse\n"
     ]
    }
   ],
   "source": [
    "// Method to check if a 2D array is diverse, meaning no two rows have the same sum of their elements.\n",
    "public static boolean isDiverse(int[][] arr2D) {\n",
    "    int[] sums = rowSums(arr2D); // Calculate the sum of elements for each row in the 2D array.\n",
    "\n",
    "    // Loop through the sums array to compare each sum with every other sum.\n",
    "    for (int i = 0; i < sums.length - 1; i++) {\n",
    "        for (int j = i + 1; j < sums.length; j++) {\n",
    "            // If any two rows have the same sum, the array is not diverse.\n",
    "            if (sums[i] == sums[j]) {\n",
    "                return false; // Return false as soon as a duplicate sum is found.\n",
    "            }\n",
    "        }\n",
    "    }\n",
    "    return true; // If no duplicate sums are found, the array is diverse, so return true.\n",
    "}\n",
    "\n",
    "// Test class to demonstrate the functionality of the isDiverse method.\n",
    "public class TestC {\n",
    "    public static void main(String[] args) {\n",
    "        // Initialize two 2D arrays with predefined values for testing.\n",
    "        int[][] mat1 = {\n",
    "            {1, 3, 2, 7, 3},\n",
    "            {10, 10, 4, 6, 2},\n",
    "            {5, 3, 5, 9, 6},\n",
    "            {7, 6, 4, 2, 1}\n",
    "        };\n",
    "        int[][] mat2 = {\n",
    "            {1, 1, 5, 3, 4},\n",
    "            {12, 7, 6, 1, 9},\n",
    "            {8, 11, 10, 2, 5},\n",
    "            {3, 2, 3, 0, 6}\n",
    "        };\n",
    "\n",
    "        // Call the isDiverse method for both matrices and print the results.\n",
    "        // The output indicates whether each matrix is diverse based on the sum of their rows.\n",
    "        System.out.println(isDiverse(mat1) + \": mat1 is diverse\");\n",
    "        System.out.println(isDiverse(mat2) + \": mat2 is diverse\");\n",
    "    }\n",
    "}\n",
    "\n",
    "// Simulate calling the main method of TestC class, typically used for testing or demonstration purposes.\n",
    "TestC.main(null);\n"
   ]
  },
  {
   "cell_type": "markdown",
   "metadata": {},
   "source": [
    "This FRQ question regards the topic of Array/ArrayList and 2D Array. In part a, this question tested our knowledge on arrays because it requires the sum of all elements in the array. In part b, this question was about both arrays and 2D arrays because we had to navigate through a 2D array using iterative loops to then find the sums of each 1D array within the 2D array. Lastly, part c tests our ability on 2D arrays and 1D arrays as well but it was mostly 1D arrays because we need to compare the elements in the array to see if there we duplicates.\n",
    "\n"
   ]
  }
 ],
 "metadata": {
  "kernelspec": {
   "display_name": "Java",
   "language": "java",
   "name": "java"
  },
  "language_info": {
   "codemirror_mode": "java",
   "file_extension": ".jshell",
   "mimetype": "text/x-java-source",
   "name": "Java",
   "pygments_lexer": "java",
   "version": "20.0.2+9-78"
  },
  "orig_nbformat": 4
 },
 "nbformat": 4,
 "nbformat_minor": 2
}
