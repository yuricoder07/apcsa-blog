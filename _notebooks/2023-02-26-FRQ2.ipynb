{
 "cells": [
  {
   "cell_type": "markdown",
   "metadata": {},
   "source": [
    "---\n",
    "toc: true\n",
    "comments: true\n",
    "layout: post\n",
    "title: College Board FRQ2 Final \n",
    "description: Final FRQ\n",
    "courses: { lab: {week: 0} }\n",
    "type: hacks\n",
    "---"
   ]
  },
  {
   "cell_type": "markdown",
   "metadata": {},
   "source": [
    "# FRQ 2\n",
    "\n",
    "Write the complete HiddenWord class, including any necessary instance variables, its constructor, and the method, getHint, described above. You may assume that the length of the guess is the same as the length of the hidden word.\n",
    "\n"
   ]
  },
  {
   "cell_type": "code",
   "execution_count": 1,
   "metadata": {
    "vscode": {
     "languageId": "java"
    }
   },
   "outputs": [
    {
     "name": "stdout",
     "output_type": "stream",
     "text": [
      "Guess a 5 letter word\n",
      "harrr\n",
      "Hint: *****\n",
      "Guess a 5 letter word\n",
      "abcde\n",
      "Hint: *****\n",
      "Guess a 5 letter word\n",
      "aaaaa\n",
      "Hint: *****\n",
      "Guess a 5 letter word\n",
      "AAAAA\n",
      "Hint: +A+++\n",
      "Guess a 5 letter word\n",
      "APPLE\n",
      "Hint: +++**\n",
      "Guess a 5 letter word\n",
      "HARPS\n",
      "Hint: HARPS\n",
      "You win\n"
     ]
    }
   ],
   "source": [
    "import java.util.Scanner;\n",
    "public class HiddenWord {\n",
    "    private String word;\n",
    "    public HiddenWord(String hiddenWord){\n",
    "        word = hiddenWord;\n",
    "    }\n",
    "    public String getHint(String attempt){\n",
    "        String hint = \"\";\n",
    "        for(int i=0; i<attempt.length();i++){\n",
    "            if(attempt.charAt(i)==word.charAt(i)){\n",
    "                hint+=attempt.charAt(i);\n",
    "            }\n",
    "            else if(word.indexOf(attempt.charAt(i))!=-1){\n",
    "                hint+=\"+\";\n",
    "            }\n",
    "            else{\n",
    "                hint+=\"*\";\n",
    "            }\n",
    "        }\n",
    "        return hint;\n",
    "    }\n",
    "    public static void main(String[] args) {\n",
    "        HiddenWord puzzle = new HiddenWord(\"HARPS\");\n",
    "        Scanner scan = new Scanner(System.in);\n",
    "        boolean playing = true;\n",
    "        while (playing){\n",
    "            System.out.println(\"Guess a 5 letter word\");\n",
    "            String attempt = scan.nextLine();\n",
    "            System.out.println(attempt);\n",
    "            String hint = puzzle.getHint(attempt);\n",
    "            System.out.println(\"Hint: \"+hint);\n",
    "            if(hint.equals(puzzle.word)){\n",
    "                System.out.println(\"You win\");\n",
    "                playing=false;\n",
    "            }\n",
    "        }\n",
    "    }\n",
    "}\n",
    "HiddenWord.main(null);"
   ]
  },
  {
   "cell_type": "markdown",
   "metadata": {},
   "source": [
    "In this FRQ question, it regards the topic of Classes and Method and Control Structures. It tests our knowledge of creating a class for the hidden word game. It has a constructor to initialize the word and a method to convert the player’s guess to make a hint for the player. By using the class and methods, it ensures the game is structured which is very useful in programming. Also, this is tests our knowledge on Method and Control structures because we had to compare and modify strings. We had to iterate through the strings to find matching characters to do the challenge."
   ]
  }
 ],
 "metadata": {
  "kernelspec": {
   "display_name": "Java",
   "language": "java",
   "name": "java"
  },
  "language_info": {
   "codemirror_mode": "java",
   "file_extension": ".jshell",
   "mimetype": "text/x-java-source",
   "name": "Java",
   "pygments_lexer": "java",
   "version": "20.0.2+9-78"
  },
  "orig_nbformat": 4
 },
 "nbformat": 4,
 "nbformat_minor": 2
}
