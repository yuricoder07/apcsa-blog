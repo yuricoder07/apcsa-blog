{
 "cells": [
  {
   "cell_type": "markdown",
   "metadata": {},
   "source": [
    "# Java Console Games\n",
    "> Making the code for \"Rock, Paper, Scissors\" much easier to understand using OOP\n",
    "\n",
    "- toc: true\n",
    "- comments: false\n",
    "- layout: post\n",
    "- title: Java Console Games\n",
    "- description: xx\n",
    "- type: hacks\n",
    "- courses: { csa: {week: 1} }\n",
    "- permalink: /java-games"
   ]
  },
  {
   "cell_type": "markdown",
   "metadata": {},
   "source": [
    "### 1. Import the necessary libraries"
   ]
  },
  {
   "cell_type": "code",
   "execution_count": 1,
   "metadata": {
    "vscode": {
     "languageId": "java"
    }
   },
   "outputs": [],
   "source": [
    "import java.util.Scanner;\n",
    "import java.lang.Math;"
   ]
  },
  {
   "cell_type": "markdown",
   "metadata": {},
   "source": [
    "### 2. Create the Console class"
   ]
  },
  {
   "cell_type": "code",
   "execution_count": 2,
   "metadata": {
    "vscode": {
     "languageId": "java"
    }
   },
   "outputs": [],
   "source": [
    "public class ConsoleGame {\n",
    "    public final String DEFAULT = \"\\u001B[0m\";  // Default Terminal Color\n",
    "    \n",
    "    public ConsoleGame() {\n",
    "        Scanner sc = new Scanner(System.in);\n",
    "        boolean quit = false;\n",
    "        \n",
    "        while (!quit) {\n",
    "            this.menuString();\n",
    "            try {\n",
    "                int choice = sc.nextInt();\n",
    "                System.out.print(\"\" + choice + \": \");\n",
    "                quit = this.action(choice);\n",
    "            } catch (Exception e) {\n",
    "                sc.nextLine();\n",
    "                System.out.println(e + \": Not a number, try again.\");\n",
    "            }\n",
    "        }\n",
    "        sc.close();\n",
    "    }\n",
    "    \n",
    "    public void menuString() {\n",
    "        String menuText = \"\"\n",
    "            + \"\\u001B[35m___________________________\\n\"\n",
    "            + \"|~~~~~~~~~~~~~~~~~~~~~~~~~|\\n\"\n",
    "            + \"|\\u001B[0m          Menu!          \\u001B[35m|\\n\"\n",
    "            + \"|~~~~~~~~~~~~~~~~~~~~~~~~~|\\n\"\n",
    "            + \"| 0 - Exit                |\\n\"\n",
    "            + \"| 1 - Rock Paper Scissors |\\n\"\n",
    "            + \"| 2 - Higher or Lower     |\\n\"\n",
    "            + \"| 3 - Tic Tac Toe         |\\n\"\n",
    "            + \"|_________________________|   \\u001B[0m\\n\"\n",
    "            + \"\\n\"\n",
    "            + \"Choose an option.\\n\";\n",
    "        System.out.println(menuText);\n",
    "    }\n",
    "\n",
    "    private boolean action(int selection) {\n",
    "        boolean quit = false;\n",
    "        switch (selection) {\n",
    "            case 0:\n",
    "                System.out.print(\"Goodbye, World!\"); \n",
    "                quit = true; \n",
    "                break;\n",
    "            case 1:\n",
    "                rps();\n",
    "                break;\n",
    "            case 2:\n",
    "                horl();\n",
    "                break;\n",
    "            case 3:\n",
    "                ticTacToe();\n",
    "                break;\n",
    "            default:\n",
    "                System.out.print(\"Unexpected choice, try again.\");\n",
    "        }\n",
    "        System.out.println(DEFAULT);\n",
    "        return quit;\n",
    "    }\n",
    "\n",
    "    public static void main(String[] args) {\n",
    "        new ConsoleGame();\n",
    "    }\n",
    "}"
   ]
  },
  {
   "cell_type": "markdown",
   "metadata": {},
   "source": [
    "### 3. Higher or Lower Game Logic"
   ]
  },
  {
   "cell_type": "code",
   "execution_count": 3,
   "metadata": {
    "vscode": {
     "languageId": "java"
    }
   },
   "outputs": [],
   "source": [
    "// (Include only the contents of the horl() method)\n",
    "public void horl() {\n",
    "    System.out.println(\"Higher or Lower\");\n",
    "    System.out.println(\"You have three guesses to guess the number I am thinking of between 1-8.\");\n",
    "    System.out.println(\"If you guess the number correctly, you win!\");\n",
    "    Scanner scHL = new Scanner(System.in);\n",
    "    int randomG = (int) (Math.random() * 8) + 1;\n",
    "    int guess = scHL.nextInt();\n",
    "    for(int i = 3; i > 0; i--) {\n",
    "        if (guess == randomG) {\n",
    "            System.out.println(\"You win!\");\n",
    "            break;\n",
    "        } else if (guess > randomG) {\n",
    "            System.out.println(\"The number is lower\");\n",
    "        } else if (guess < randomG) {\n",
    "            System.out.println(\"The number is higher\");\n",
    "        }\n",
    "        guess = scHL.nextInt();\n",
    "    }\n",
    "    System.out.println(\"Game over.\");\n",
    "    scHL.close();\n",
    "}"
   ]
  },
  {
   "cell_type": "markdown",
   "metadata": {},
   "source": [
    "### 4. RPS Game Logic"
   ]
  },
  {
   "cell_type": "code",
   "execution_count": 4,
   "metadata": {
    "vscode": {
     "languageId": "java"
    }
   },
   "outputs": [],
   "source": [
    "// (Include only the contents of the rps() method)\n",
    "public void rps() {\n",
    "    System.out.println(\"Rock Paper Scissors\");\n",
    "    System.out.println(\"Type r for rock, p for paper, or s for scissors\");\n",
    "    Scanner scRPS = new Scanner(System.in);\n",
    "    String userChoice = scRPS.nextLine().toLowerCase();\n",
    "    Boolean quit = false;\n",
    "    int random = (int) (Math.random() * 3);\n",
    "    while (!quit) {\n",
    "        // Rock Paper Scissors game logic\n",
    "        // ...\n",
    "    }\n",
    "    scRPS.close();\n",
    "}"
   ]
  },
  {
   "cell_type": "markdown",
   "metadata": {},
   "source": [
    "### 5. Tic Tac Toe Game Logic"
   ]
  },
  {
   "cell_type": "code",
   "execution_count": 5,
   "metadata": {
    "vscode": {
     "languageId": "java"
    }
   },
   "outputs": [],
   "source": [
    "// (Include only the contents of the ticTacToe() method)\n",
    "public void ticTacToe() {\n",
    "    System.out.println(\"Tic Tac Toe\");\n",
    "    Scanner scTTT = new Scanner(System.in);\n",
    "    String[] board = {\"1\", \"2\", \"3\", \"4\", \"5\", \"6\", \"7\", \"8\", \"9\"};\n",
    "    String player = \"X\";\n",
    "    String player2 = \"O\";\n",
    "    int turn = 0;\n",
    "    Boolean quit = false;\n",
    "    System.out.println(\"Do you want to play against a friend or the computer?\");\n",
    "    System.out.println(\"Type 1 for friend, 2 for computer\");\n",
    "    int choice = scTTT.nextInt();\n",
    "    if (choice == 1) {\n",
    "        // Tic Tac Toe game logic (friend)\n",
    "        // ...\n",
    "    } else if (choice == 2) {\n",
    "        // Tic Tac Toe game logic (computer)\n",
    "        // ...\n",
    "    }\n",
    "    scTTT.close();\n",
    "}"
   ]
  },
  {
   "cell_type": "markdown",
   "metadata": {},
   "source": [
    "### 6. Main Function"
   ]
  },
  {
   "cell_type": "code",
   "execution_count": 6,
   "metadata": {
    "vscode": {
     "languageId": "java"
    }
   },
   "outputs": [],
   "source": [
    "// (Include only the main method)\n",
    "public static void main(String[] args) {\n",
    "    new ConsoleGame();\n",
    "}"
   ]
  }
 ],
 "metadata": {
  "kernelspec": {
   "display_name": "Java",
   "language": "java",
   "name": "java"
  },
  "language_info": {
   "codemirror_mode": "java",
   "file_extension": ".jshell",
   "mimetype": "text/x-java-source",
   "name": "Java",
   "pygments_lexer": "java",
   "version": "20.0.2+9-78"
  },
  "orig_nbformat": 4
 },
 "nbformat": 4,
 "nbformat_minor": 2
}
